{
 "cells": [
  {
   "cell_type": "code",
   "execution_count": 74,
   "metadata": {},
   "outputs": [],
   "source": [
    "from __future__ import print_function\n",
    "from ipywidgets import interact, interactive, fixed, interact_manual, Dropdown, Button\n",
    "from ipywidgets import Output, HBox, Label, Text, RadioButtons, HTML, FileUpload\n",
    "\n",
    "import ipywidgets as widgets\n",
    "\n",
    "import pandas as pd\n",
    "import numpy as np\n",
    "\n",
    "import os\n",
    "import re\n",
    "\n",
    "from IPython.display import clear_output\n",
    "from IPython.display import display, HTML\n",
    "from IPython.display import Image\n",
    "\n",
    "import random\n",
    "import base64\n",
    "\n",
    "from sklearn.decomposition import PCA\n",
    "import plotly.express as px\n",
    "from plotly.subplots import make_subplots\n",
    "import plotly.figure_factory as ff\n",
    "import plotly.graph_objects as go\n",
    "\n",
    "from dominate import tags\n",
    "\n",
    "import codecs\n",
    "import io"
   ]
  },
  {
   "cell_type": "code",
   "execution_count": 75,
   "metadata": {},
   "outputs": [],
   "source": [
    "def HTML_with_style(df, style=None, random_id=None):\n",
    "    from IPython.display import HTML\n",
    "    import numpy as np\n",
    "    import re\n",
    "\n",
    "    df_html = df.to_html()\n",
    "\n",
    "    if random_id is None:\n",
    "        random_id = 'id%d' % np.random.choice(np.arange(1000000))\n",
    "\n",
    "    if style is None:\n",
    "        style = \"\"\"\n",
    "        <style>\n",
    "            table#{random_id} {{color: black}}\n",
    "        </style>\n",
    "        \"\"\".format(random_id=random_id)\n",
    "    else:\n",
    "        new_style = []\n",
    "        s = re.sub(r'</?style>', '', style).strip()\n",
    "        for line in s.split('\\n'):\n",
    "                line = line.strip()\n",
    "                if not re.match(r'^table', line):\n",
    "                    line = re.sub(r'^', 'table ', line)\n",
    "                new_style.append(line)\n",
    "        new_style = ['<style>'] + new_style + ['</style>']\n",
    "\n",
    "        style = re.sub(r'table(#\\S+)?', 'table#%s' % random_id, '\\n'.join(new_style))\n",
    "\n",
    "    df_html = re.sub(r'<table', r'<table id=%s ' % random_id, df_html)\n",
    "\n",
    "    return HTML(style + df_html)"
   ]
  },
  {
   "cell_type": "markdown",
   "metadata": {},
   "source": [
    "# Transcriptome-wide outlier detection and filtering application\n",
    "\n",
    "### ! Beware: Saving tables will not work when using Internet Explorer !\n",
    "\n",
    "based on hisat2-count files with (hisat2) reference file and OUTRIDER normalization \n",
    "(ref: Brechtmann <em> et al.</em> 2018 **Am J Hum Genet**) :\n",
    "\n",
    "| Fragments | Ref |\n",
    "| :- | :- |\n",
    "| Genes | GCF_000001405.25_GRCh37.p13_genomic.chr.genes.bed |\n",
    "| Exons | GCF_000001405.25_GRCh37.p13_genomic.chr.transcripts.bed |\n",
    "| Introns | GCF_000001405.25_GRCh37.p13_genomic.chr.introns.bed |\n"
   ]
  },
  {
   "cell_type": "code",
   "execution_count": 76,
   "metadata": {},
   "outputs": [
    {
     "data": {
      "application/vnd.jupyter.widget-view+json": {
       "model_id": "ba41b8e6f73c45cfa8ef51171ad30f0c",
       "version_major": 2,
       "version_minor": 0
      },
      "text/plain": [
       "interactive(children=(Text(value='password', description='password'), Output()), _dom_classes=('widget-interac…"
      ]
     },
     "metadata": {},
     "output_type": "display_data"
    }
   ],
   "source": [
    "def set_password(password):\n",
    "    global pwd, version\n",
    "    pwd = password\n",
    "    version = \"v02.2_010222\"\n",
    "    \n",
    "interact(set_password, password='password');"
   ]
  },
  {
   "cell_type": "code",
   "execution_count": 77,
   "metadata": {},
   "outputs": [],
   "source": [
    "def check_password():\n",
    "    if( pwd == 'password'):\n",
    "        return True\n",
    "    else:\n",
    "        raise ValueError('Password incorrect')"
   ]
  },
  {
   "cell_type": "markdown",
   "metadata": {},
   "source": [
    "## Load data"
   ]
  },
  {
   "cell_type": "markdown",
   "metadata": {},
   "source": [
    "### Select experiments and species"
   ]
  },
  {
   "cell_type": "code",
   "execution_count": 78,
   "metadata": {},
   "outputs": [],
   "source": [
    "# make metadata filelist\n",
    "meta_path = './metadata/'\n",
    "meta = 'dekker_et_al_rnaseq_metadata.csv'\n",
    "metalist = [meta]"
   ]
  },
  {
   "cell_type": "code",
   "execution_count": 80,
   "metadata": {},
   "outputs": [
    {
     "data": {
      "application/vnd.jupyter.widget-view+json": {
       "model_id": "8a21b4dc18f742cba6a2f921b366c3bb",
       "version_major": 2,
       "version_minor": 0
      },
      "text/plain": [
       "interactive(children=(Dropdown(description='meta', options=('dekker_et_al_rnaseq_metadata.csv',), value='dekke…"
      ]
     },
     "metadata": {},
     "output_type": "display_data"
    },
    {
     "data": {
      "text/plain": [
       "<function __main__.metadata(meta, species, fragment)>"
      ]
     },
     "execution_count": 80,
     "metadata": {},
     "output_type": "execute_result"
    }
   ],
   "source": [
    "# open metadata file; read metadata file and pull sample_ID's. \n",
    "# Load data for chosen sample.\n",
    "# 2 dataframes, also one for exon ranking plot (load data for chosen geneID and all samples). \n",
    "\n",
    "def metadata (meta, species, fragment):\n",
    "    global tissue, metadata_species, experiment, fragments, metadata_sample\n",
    "    \n",
    "    tissue = species\n",
    "    fragments = fragment\n",
    "    \n",
    "    check_password()\n",
    "    \n",
    "    if meta != '':\n",
    "        path = './metadata/' + meta\n",
    "        metadata = pd.read_csv(path, sep = ';')\n",
    "        \n",
    "        if species == 'fib_untreated':\n",
    "            metadata_species = metadata[(metadata['drop']!=\"y\") & (metadata['treatment'] == 'untreated') & (metadata['species'] == 'fib')]\n",
    "            \n",
    "        if species == 'fib_CHX':\n",
    "            metadata_species = metadata[(metadata['drop']!=\"y\") & (metadata['treatment'] == 'CHX') & (metadata['species'] == 'fib')]\n",
    "            \n",
    "        experiment = 'Dekker_et_al_rnaseq'\n",
    "            \n",
    "        \n",
    "interact_manual(metadata, meta = list(metalist),\n",
    "               species = ['fib_untreated','fib_CHX'],\n",
    "               fragment = ['genes','exons','introns'])"
   ]
  },
  {
   "cell_type": "code",
   "execution_count": 81,
   "metadata": {},
   "outputs": [],
   "source": [
    "# list of experiments\n",
    "GS_exp = 'Dekker_et_al_rnaseq'\n",
    "    \n"
   ]
  },
  {
   "cell_type": "markdown",
   "metadata": {},
   "source": [
    "### Select sample\n",
    "\n",
    "First you need to select the option 'samples' before samplelist gets updated. If you choose new species push \"run interact\" to refresh sample list."
   ]
  },
  {
   "cell_type": "code",
   "execution_count": 83,
   "metadata": {},
   "outputs": [
    {
     "data": {
      "application/vnd.jupyter.widget-view+json": {
       "model_id": "bf17e8c2d7e84d6e9d330612c5bb60f6",
       "version_major": 2,
       "version_minor": 0
      },
      "text/plain": [
       "interactive(children=(Button(description='Run Interact', style=ButtonStyle()), Output()), _dom_classes=('widge…"
      ]
     },
     "metadata": {},
     "output_type": "display_data"
    },
    {
     "data": {
      "application/vnd.jupyter.widget-view+json": {
       "model_id": "a15c265ed1cb4ce4bff49d42aa2b88de",
       "version_major": 2,
       "version_minor": 0
      },
      "text/plain": [
       "interactive(children=(Dropdown(description='ID', options=('Dekker_et_al_individual9_untreated', 'Dekker_et_al_…"
      ]
     },
     "metadata": {},
     "output_type": "display_data"
    }
   ],
   "source": [
    "ID_dropdown = Dropdown()\n",
    "\n",
    "def update_options(*args):\n",
    "    try:\n",
    "        if( 'metadata_species' in globals() and 'GS_exp' in globals() ):\n",
    "            if (tissue == 'AFC_0'):\n",
    "                sample_IDs = metadata_sample.sort_values('sample_id', ascending=False)['sample_id'].unique().tolist()\n",
    "                #ID_dropdown.options = sample_IDs\n",
    "            elif (tissue == 'AFC_CHX'):\n",
    "                sample_IDs = metadata_sample.sort_values('sample_id', ascending=False)['sample_id'].unique().tolist()\n",
    "                #ID_dropdown.options = sample_IDs\n",
    "            else:\n",
    "                if (GS_exp != 'all'):\n",
    "                    metadata_GSexp = metadata_species[metadata_species['experiment_GS'] == GS_exp]\n",
    "                    sample_IDs = metadata_GSexp.sort_values('sample_id', ascending=False)['sample_id'].unique().tolist()\n",
    "                else:\n",
    "                    sample_IDs = metadata_species.sort_values('sample_id', ascending=False)['sample_id'].unique().tolist()\n",
    "                    \n",
    "            ID_dropdown.options = sample_IDs\n",
    "        else:\n",
    "            ID_dropdown.options = ['refresh','samples']\n",
    "        \n",
    "    except:\n",
    "        pass\n",
    "        \n",
    "ID_dropdown.observe(update_options) \n",
    "\n",
    "interact_manual(update_options)\n",
    "@interact (ID = ID_dropdown)\n",
    "def set_current_ID( ID):\n",
    "    global current_sample_ID\n",
    "    current_sample_ID = ID\n",
    "    "
   ]
  },
  {
   "cell_type": "markdown",
   "metadata": {},
   "source": [
    "### Show PCA plot\n",
    "\n",
    "Select dataset which you want to use.\n",
    "Shown countdata of previous selected species before OUTRIDER normalisation"
   ]
  },
  {
   "cell_type": "code",
   "execution_count": 84,
   "metadata": {
    "scrolled": true
   },
   "outputs": [
    {
     "data": {
      "application/vnd.jupyter.widget-view+json": {
       "model_id": "4b73cc5b6aeb4925a41648790285c312",
       "version_major": 2,
       "version_minor": 0
      },
      "text/plain": [
       "interactive(children=(Button(description='Run Interact', style=ButtonStyle()), Output()), _dom_classes=('widge…"
      ]
     },
     "metadata": {},
     "output_type": "display_data"
    },
    {
     "data": {
      "text/plain": [
       "<function __main__.PCAplot()>"
      ]
     },
     "execution_count": 84,
     "metadata": {},
     "output_type": "execute_result"
    }
   ],
   "source": [
    "# PCA plot from countdata\n",
    "def PCAplot ():\n",
    "    count_path = \"./countdata/\"\n",
    "    file = 'dekker_et_al_rnaseq_' + fragments + '_counts.tsv'\n",
    "    \n",
    "    if( 'experiment' in globals() and 'fragments' in globals()):\n",
    "    \n",
    "        f = pd.read_csv(count_path+file, sep = '\\t').set_index('Unnamed: 0')\n",
    "\n",
    "        # only samples filtered in metadata\n",
    "        f_res = f[f.columns & metadata_species['sample_id']]\n",
    "\n",
    "        pca = PCA(n_components=5)\n",
    "        pca.fit(f_res.T)\n",
    "        data_pca = pca.transform(f_res.T)\n",
    "        data_pca = pd.DataFrame( data_pca , index = f_res.T.index )\n",
    "\n",
    "        # Formatting for PCA\n",
    "        data_pca.reset_index(inplace=True)\n",
    "\n",
    "        # Percentage of variance\n",
    "        variance = pca.explained_variance_ratio_ \n",
    "\n",
    "        red = data_pca.loc[data_pca['index'] == current_sample_ID]\n",
    "        \n",
    "        # figure\n",
    "        fig = make_subplots(rows=1, cols=1)\n",
    "        # all data\n",
    "        fig.add_scatter(x=data_pca[0], y=data_pca[1], mode=\"markers\",\n",
    "                        marker=dict(color=\"Blue\"),\n",
    "                        row=1, col=1, text=data_pca['index'])\n",
    "        # sample data       \n",
    "        fig.add_scatter(x=red[0], y=red[1],\n",
    "                    marker=dict(color=\"Red\"),\n",
    "                    row=1, col=1, text=current_sample_ID)\n",
    "        \n",
    "        fig.update_traces(hoverinfo = 'text', selector = dict(type='scatter'), \n",
    "                           hoverlabel = dict(namelength = -1))\n",
    "        fig.update_layout(title= \"PCA plot before normalisation: \"+current_sample_ID, title_x = 0.5, height=550, width = 550, \n",
    "                          showlegend = False, template = \"simple_white\")\n",
    "        fig.update_xaxes(title_text=\"PC 1 ({}% variance) \".format(int(variance[0] *100)), showgrid=False)\n",
    "        fig.update_yaxes(title_text=\"PC 2 ({}% variance) \".format(int(variance[1] *100)), showgrid=False)\n",
    "\n",
    "        fig.show()\n",
    "    \n",
    "interact_manual(PCAplot)"
   ]
  },
  {
   "cell_type": "markdown",
   "metadata": {},
   "source": [
    "### Select results-file \n",
    "\n",
    "Loading the data might take a while (even up to 5 minutes)."
   ]
  },
  {
   "cell_type": "code",
   "execution_count": 86,
   "metadata": {},
   "outputs": [
    {
     "data": {
      "application/vnd.jupyter.widget-view+json": {
       "model_id": "147f8b738c854c8f8510730cdab8f854",
       "version_major": 2,
       "version_minor": 0
      },
      "text/plain": [
       "interactive(children=(Button(description='Run Interact', style=ButtonStyle()), Output()), _dom_classes=('widge…"
      ]
     },
     "metadata": {},
     "output_type": "display_data"
    },
    {
     "data": {
      "text/plain": [
       "<function __main__.path_results()>"
      ]
     },
     "execution_count": 86,
     "metadata": {},
     "output_type": "execute_result"
    }
   ],
   "source": [
    "# load outrider resultfile\n",
    "def path_results ():\n",
    "    global stats, filename, path, resultfile\n",
    "   \n",
    "    check_password()\n",
    "    \n",
    "    main_path = './outrider/'\n",
    "    file = 'dekker_et_al_rnaseq_' + tissue + '_res_outrider_' + fragments + '_counts.tsv.gz'\n",
    "    \n",
    "    path = main_path + file\n",
    "    filename = path\n",
    "    \n",
    "    stats = pd.read_csv(path, compression='gzip')\n",
    "\n",
    "interact_manual(path_results)"
   ]
  },
  {
   "cell_type": "code",
   "execution_count": 87,
   "metadata": {},
   "outputs": [],
   "source": [
    "# list of genepanels\n",
    "path_to_gene_panels= './genepanels/'\n",
    "\n",
    "gene_panel_with_genes = {}\n",
    "for gene_panel in os.listdir(path_to_gene_panels):\n",
    "    if( gene_panel.endswith('.csv')):\n",
    "        try:\n",
    "            df = pd.read_csv(path_to_gene_panels+ gene_panel ,header = None)\n",
    "            df = df[0].tolist()\n",
    "            gene_panel_with_genes[ gene_panel.replace('.csv','')] = df\n",
    "        except:\n",
    "            pass\n",
    "\n",
    "style = {'description_width': 'initial'}"
   ]
  },
  {
   "cell_type": "markdown",
   "metadata": {},
   "source": [
    "## Filter on Z-scores and p-value, HPO terms, ROH, genomic position"
   ]
  },
  {
   "cell_type": "code",
   "execution_count": 88,
   "metadata": {
    "scrolled": false
   },
   "outputs": [
    {
     "data": {
      "application/vnd.jupyter.widget-view+json": {
       "model_id": "7175b22cde2348259ed91cd1c65fbfd4",
       "version_major": 2,
       "version_minor": 0
      },
      "text/plain": [
       "HTML(value='<h5>For ROH filtering a tab-delimited *.txt file without headers can be uploaded (format: chr star…"
      ]
     },
     "metadata": {},
     "output_type": "display_data"
    },
    {
     "data": {
      "application/vnd.jupyter.widget-view+json": {
       "model_id": "47fe3096c3f54a1599297bc7a0df4965",
       "version_major": 2,
       "version_minor": 0
      },
      "text/plain": [
       "Button(description='Delete upload file', style=ButtonStyle())"
      ]
     },
     "metadata": {},
     "output_type": "display_data"
    },
    {
     "data": {
      "application/vnd.jupyter.widget-view+json": {
       "model_id": "94bc8a2f926d4086877dd1130bb1bd96",
       "version_major": 2,
       "version_minor": 0
      },
      "text/plain": [
       "interactive(children=(Dropdown(description='gene_panel', options=('all', 'AMYLO_V1', 'ANEU_V10', 'AUT_V5', 'AU…"
      ]
     },
     "metadata": {},
     "output_type": "display_data"
    }
   ],
   "source": [
    "# filtering of zScores\n",
    "ascending_sort_dict = {'zScore_abs':['zScore_abs',False], \n",
    "                       'pValue':['pValue',True], \n",
    "                       'geneID':['geneID',True], \n",
    "                       'gene':['gene',True],\n",
    "                       'zScore_neg':['zScore',True], \n",
    "                       'zScore_pos':['zScore',False] }\n",
    "\n",
    "def filter_Z_score (gene_panel, Z_threshold, p_threshold, sort_by, only_significant, search_gene_specific, search_gene_global, \n",
    "                    search_genes_from_list, hpo_term_name, hpo_term_id, hpo_id_in_list, hpo_id_all_list, \n",
    "                    chrom, chr_start, chr_end, position_upload):\n",
    "    \n",
    "    check_password()\n",
    "    \n",
    "    global s_gene, df_filtered, panel, Z, df_position, position, uploaded_filename, genes, df_hpo\n",
    "    \n",
    "    s_gene = search_gene_specific\n",
    "    panel = gene_panel\n",
    "    Z = Z_threshold\n",
    "    position = position_upload\n",
    "    \n",
    "    if( 'stats' in globals() and 'current_sample_ID' in globals()):\n",
    "        Z_threshold = float(Z_threshold)\n",
    "        p_threshold = float(p_threshold)\n",
    "                \n",
    "        df = stats\n",
    "\n",
    "        # distributionplot\n",
    "        try:\n",
    "            Zs = df['zScore'].values\n",
    "            hist_data = [Zs]\n",
    "            group_labels = ['distplot']\n",
    "\n",
    "            fig = ff.create_distplot(hist_data, group_labels, show_rug=False, bin_size=.2)\n",
    "            fig.update_layout(title= current_sample_ID, title_x = 0.4, height = 500, width = 600,\n",
    "                          showlegend = False)\n",
    "            fig.update_xaxes(title_text=\"Z-Score\", showgrid=False)\n",
    "            fig.update_yaxes(title_text=\"counts\", showgrid=False)\n",
    "            fig.add_vline( np.median(Zs), line_color=\"black\")\n",
    "            \n",
    "            fig.show()\n",
    "            \n",
    "        except:\n",
    "            pass\n",
    "        \n",
    "\n",
    "        # Not all? then select gene panel\n",
    "        if( gene_panel != 'all' ):\n",
    "            genes = gene_panel_with_genes[gene_panel]\n",
    "            df = df.loc[ df['gene'].isin(genes) ]\n",
    "        else:\n",
    "            genes = []\n",
    "            \n",
    "\n",
    "        # filter results on thresholds\n",
    "        df = df.loc[ df['zScore'].abs() >= Z_threshold]\n",
    "        df = df.loc[ df['pValue'] <= p_threshold]\n",
    "        \n",
    "        \n",
    "        # significant filtering\n",
    "        if only_significant == 'yes':\n",
    "            df = df.loc[ (df['aberrant'] == True) ]\n",
    "            \n",
    "\n",
    "        # filter on specific genes\n",
    "        if( search_gene_specific != '' ):\n",
    "            df = df.loc[ df['gene'] == search_gene_specific ]\n",
    "            \n",
    "        elif(search_gene_global != ''):\n",
    "            df = df.loc[ df['gene'].str.contains( search_gene_global,na=False, case=False ) ]\n",
    "      \n",
    "        elif(search_genes_from_list != ''):\n",
    "            genes = [ gene.strip(' ') for gene in search_genes_from_list.split('|') ]\n",
    "            df = df.loc[ df['gene'].isin(genes) ]\n",
    "      \n",
    "        else:\n",
    "            pass  \n",
    "       \n",
    "\n",
    "        # filtering on HPO terms\n",
    "        loc_hpo = './hpo/phenotype_to_genes.txt'\n",
    "        \n",
    "        # filter on HPO id\n",
    "        if hpo_term_id != \"\":\n",
    "            if hpo_term_name != \"\":\n",
    "                display(widgets.HTML(tags.h5(\"Fill in only HPO_term_id or HPO_term_name, not both\").render()))\n",
    "            elif hpo_id_in_list != \"\":\n",
    "                display(widgets.HTML(tags.h5(\"Fill in only HPO_term_id or gene of a HPO id in list, not both\").render()))\n",
    "            elif hpo_id_all_list != \"\":\n",
    "                display(widgets.HTML(tags.h5(\"Fill in only HPO_term_id or gene of all HPO ids from list, not both\").render()))\n",
    "            else:\n",
    "                if hpo_term_id.startswith('HP'):\n",
    "                    hpo_term_id = hpo_term_id\n",
    "                else:\n",
    "                    hpo_term_id = 'HP:' + str(hpo_term_id)\n",
    "                display(widgets.HTML(tags.h5(\"Filter on HPO_term_id: \"+hpo_term_id).render()))\n",
    "                df_hpo = pd.read_csv(loc_hpo, sep='\\t', header = 0,\n",
    "                             names = [\"HPO_term_id\",\"HPO_term_name\",\"entrez_gene_id\",\"entrez_gene_name\", \"Frequency_HPO\",\n",
    "                                      \"G-D_source\", \"disease_id\"])\n",
    "                df_hpo = df_hpo.loc[df_hpo[\"HPO_term_id\"] == hpo_term_id]\n",
    "                \n",
    "                hpo_genes = df_hpo['entrez_gene_name']\n",
    "                df = df.loc[ df['gene'].isin(hpo_genes) ]\n",
    "                # extra column for HPO term\n",
    "                df['Present_HPO_term'] = hpo_term_id\n",
    "        \n",
    "        #filter on HPO name\n",
    "        elif hpo_term_name != \"\":\n",
    "            display(widgets.HTML(tags.h5(\"Filter on HPO_term_name: \" + hpo_term_name).render()))\n",
    "            hpo_term_name = hpo_term_name.lower()\n",
    "            df_hpo = pd.read_csv(loc_hpo, sep='\\t', header = 0, \n",
    "                                 names = [\"HPO_term_id\",\"HPO_term_name\",\"entrez_gene_id\",\"entrez_gene_name\", \"Frequency_HPO\",\n",
    "                                          \"G-D_source\",\"disease_id\"])\n",
    "            df_hpo = df_hpo.loc[ df_hpo['HPO_term_name'].str.contains( hpo_term_name, na=False, case=False ) ]          \n",
    "            \n",
    "            # only necessary columns\n",
    "            df_hpo_name = df_hpo[['entrez_gene_name','HPO_term_id','HPO_term_name']]\n",
    "            \n",
    "            # filter on genes\n",
    "            hpo_genes = df_hpo['entrez_gene_name']\n",
    "            df = df.loc[ df['gene'].isin(hpo_genes) ]\n",
    "            # extra column for HPO term; merge df and df_hpo_name\n",
    "            df_merge = pd.merge(left=df, right=df_hpo_name, how='left', left_on='gene', right_on='entrez_gene_name')\n",
    "            df = df_merge.drop(['entrez_gene_name'], axis =1).rename(columns={'HPO_term_name':'Present_HPO_name', 'HPO_term_id':'Present_HPO_term'})\n",
    "            \n",
    "\n",
    "        #filter on HPO list (of/of)\n",
    "        elif hpo_id_in_list != \"\":\n",
    "            if hpo_id_all_list != \"\":\n",
    "                display(widgets.HTML(tags.h5(\"Fill in only 'gene of a HPO id in list:' or 'gene of all HPO ids from list:', not both\").render()))\n",
    "            else:\n",
    "                # filtering on HPO terms\n",
    "                hpo_ids = [ ids.strip(' ') for ids in hpo_id_in_list.split('|') ]\n",
    "                display(widgets.HTML(tags.h5(\"Filter on genes containing at least one HPO id from list: \"+ str(hpo_ids)).render()))\n",
    "\n",
    "                df_hpo = pd.read_csv(loc_hpo, sep='\\t', header = 0,\n",
    "                                     names = [\"HPO_term_id\",\"HPO_term_name\",\"entrez_gene_id\",\"entrez_gene_name\", \n",
    "                                              \"Frequency_HPO\",\"G-D_source\", \"disease_id\"])\n",
    "                # total genelist from hpo file\n",
    "                gene_list = set(df_hpo[\"entrez_gene_name\"])\n",
    "\n",
    "                # make empty dataframe with only headers of df\n",
    "                # list of columnnames df\n",
    "                list_names = list(df.columns.values.tolist())\n",
    "                # add column for HPO term\n",
    "                list_names.append('Present_HPO_term')\n",
    "                #make empty dataframe\n",
    "                df_empty = (pd.DataFrame(list_names).T)\n",
    "                df_empty = df_empty.rename(columns=df_empty.iloc[0]).drop(df_empty.index[0])\n",
    "\n",
    "                for ids in hpo_ids:\n",
    "                    # search genes for the hpo term\n",
    "                    df_hpo_gene = df_hpo.loc[df_hpo[\"HPO_term_id\"] == ids]\n",
    "                    # make list of the genes for the hpo term\n",
    "                    set_gene = set(df_hpo_gene['entrez_gene_name'])\n",
    "                    # intersection\n",
    "                    gene_list = list(set_gene.intersection(gene_list))\n",
    "                    # make dataframe of only genes from this hpo_id\n",
    "                    df_ids = df.loc[ df['gene'].isin(gene_list) ]\n",
    "                    # extra column for present HPO terms\n",
    "                    df_ids['Present_HPO_term'] = ids\n",
    "                    # append to df_empty\n",
    "                    df_empty = df_empty.append(df_ids, ignore_index=True)\n",
    "\n",
    "                df_empty['freq_HPO'] = df_empty.groupby(by='geneID')['geneID'].transform('count')\n",
    "                df = df_empty\n",
    "            \n",
    "        #filter on HPO list (en/en)\n",
    "        elif hpo_id_all_list != \"\":\n",
    "            hpo_ids = [ ids.strip(' ') for ids in hpo_id_all_list.split('|') ]\n",
    "            display(widgets.HTML(tags.h5(\"Filter on genes containing all HPO id from list: \"+ str(hpo_ids)).render()))\n",
    "            \n",
    "            df_hpo = pd.read_csv(loc_hpo, sep='\\t', header = 0,\n",
    "                                 names = [\"HPO_term_id\",\"HPO_term_name\",\"entrez_gene_id\",\"entrez_gene_name\", \"Frequency_HPO\",\n",
    "                                          \"G-D_source\", \"disease_id\"])\n",
    "            gene_list = set(df_hpo[\"entrez_gene_name\"])\n",
    "            \n",
    "            for ids in hpo_id_all_list.split('|'):\n",
    "                ids = ids.strip(' ')\n",
    "                df_hpo_gene = df_hpo.loc[df_hpo[\"HPO_term_id\"] == ids]\n",
    "                set_gene = set(df_hpo_gene['entrez_gene_name'])\n",
    "                #intersection\n",
    "                gene_list = set_gene.intersection(gene_list)\n",
    "\n",
    "            gene_all_hpo = list(gene_list)   \n",
    "            df = df.loc[ df['gene'].isin(gene_all_hpo) ]\n",
    "            # extra column for present HPO terms\n",
    "            df['Present_HPO_term'] = hpo_id_all_list.replace(\"|\",\";\")\n",
    "            \n",
    "        else:\n",
    "            pass\n",
    "            \n",
    "\n",
    "        # chrom filtering\n",
    "        if chrom != '':\n",
    "            if chrom.startswith('chr'):\n",
    "                chrom = str(chrom)\n",
    "            else:\n",
    "                chrom = 'chr' + str(chrom)            \n",
    "            if chr_start != '':\n",
    "                chr_start = float(chr_start)\n",
    "                if chr_end == '':\n",
    "                    raise ValueError(\"Fill in chr_end position; for whole chromosome no value needed\")\n",
    "                else:\n",
    "                    chr_end = float(chr_end)\n",
    "                    df = df.loc[ (df['chr'] == chrom) & (df['start'] >= chr_start) & (df['end'] <= chr_end)]\n",
    "            else:\n",
    "                if chr_end == '':\n",
    "                    df = df.loc[ (df['chr'] == chrom) ]\n",
    "                    display(widgets.HTML(tags.h5(\"Filtering on whole chromosome\").render()))\n",
    "                else:\n",
    "                    raise ValueError(\"Fill in chr_start position; for whole chromosome no value needed\")\n",
    "       \n",
    "\n",
    "        # filtering on ROH areas by uploadfile (tab-delimited; chr start end)\n",
    "        # upload chrom position file\n",
    "        uploaded_filename = \"NA\"\n",
    "        if len(position) != 0:\n",
    "            uploaded_filename = next(iter(position))\n",
    "            display(widgets.HTML(tags.h3(\"Upload file: \"+uploaded_filename).render()))\n",
    "            df_position = pd.read_csv(io.BytesIO(position[uploaded_filename]['content']), sep='\\t', header = None)\n",
    "            df_position.columns = ['search_chrom', 'search_chrom_start', 'search_chrom_end']\n",
    "            \n",
    "            # filter df\n",
    "            # make empty dataframe\n",
    "            # search per line of df_position make dataframe and append to empty df\n",
    "            df_empty = pd.DataFrame(columns= list(df.columns))\n",
    "            for i, j in df_position.iterrows():\n",
    "                chrom = str(j[0])\n",
    "                if chrom.startswith('chr'):\n",
    "                    chrom = chrom\n",
    "                else:\n",
    "                    chrom = 'chr' + chrom\n",
    "                start = j[1]\n",
    "                end = j[2]\n",
    "                df_new = df.loc[ (df['chr'] == chrom ) & (df['start'] >= start) & (df['end'] <= end) ]\n",
    "                df_empty = df_empty.append(df_new, ignore_index=True)\n",
    "            df = df_empty\n",
    "\n",
    "        else:\n",
    "            display(widgets.HTML(tags.h5(\"No Upload file present\").render()))\n",
    "\n",
    "            df_position = ''\n",
    "            \n",
    "\n",
    "        # add column for genomic position\n",
    "        df = df.assign(genomic_position = df['chr']\n",
    "                       + \":\"\n",
    "                       + df['start'].values.astype(str)\n",
    "                       + \"-\"\n",
    "                       + df['end'].values.astype(str)\n",
    "                       )\n",
    "        \n",
    "        # new columns for FoldChange and absolute Zscore       \n",
    "        df = df.assign(FC = 2**df['l2fc'])\n",
    "        df = df.assign(zScore_abs = df['zScore'].abs() )\n",
    "        \n",
    "        # add column for link\n",
    "        df = df.assign(IGV_url = \"http://localhost:60151/load?sessionURL=\" \n",
    "                       + df['link_bam'] \n",
    "                       + \"&genome=hg19&locus=\"\n",
    "                       + df['chr']\n",
    "                       + \":\"\n",
    "                       + df['start'].values.astype(str)\n",
    "                       + \"-\"\n",
    "                       + df['end'].values.astype(str)\n",
    "                       + \"&merge=false\")\n",
    "        \n",
    "        # delete not necessary columns\n",
    "        df = df.drop(['link_bam'], axis=1)\n",
    "        df = df.drop(['theta','padj_rank','AberrantBySample','AberrantByGene'], axis=1)\n",
    "        \n",
    "        # sort\n",
    "        col, TF = ascending_sort_dict[sort_by]\n",
    "        df = df.sort_values(by= col, ascending = TF)\n",
    "\n",
    "        df_filtered = df\n",
    "        \n",
    "        display(HTML_with_style(df.iloc[0:50]))\n",
    "\n",
    "        \n",
    "# define gene_panels\n",
    "gene_panels = list( gene_panel_with_genes.keys() )\n",
    "gene_panels.append('all')\n",
    "gene_panels.sort(key=str.lower)\n",
    "\n",
    "# display\n",
    "display(widgets.HTML(tags.h5(\"For ROH filtering a tab-delimited *.txt file without headers can be \"\n",
    "                             \"uploaded (format: chr startpos endpos). For filtering on whole chromosome only fill in chrom.\").render()))\n",
    "\n",
    "\n",
    "uploader = FileUpload(accept='.txt', multiple=False)\n",
    "#display(uploader)\n",
    "\n",
    "# a upload box show then click it and upload the test file\n",
    "button = widgets.Button(description=\"Delete upload file\")\n",
    "display(button)\n",
    "\n",
    "def on_button_clicked(b):\n",
    "    uploader._counter = 0\n",
    "    uploader.value.clear()\n",
    "\n",
    "button.on_click(on_button_clicked)\n",
    "\n",
    "\n",
    "# interact manual\n",
    "interact_manual(filter_Z_score,\n",
    "                gene_panel = gene_panels,\n",
    "                Z_threshold = '3',\n",
    "                p_threshold = '0.01',\n",
    "                sort_by = list(ascending_sort_dict.keys()),\n",
    "                only_significant = RadioButtons(\n",
    "                    options=['no','yes'],\n",
    "                    value='no', \n",
    "                    description='only significant?',\n",
    "                    disabled=False, style = style),\n",
    "                search_gene_specific = Text(\n",
    "                    value='', \n",
    "                    placeholder='specific gene', \n",
    "                    description='specific genename:', \n",
    "                    style = style, disabled=False),\n",
    "                search_gene_global = Text(\n",
    "                    value='', \n",
    "                    placeholder='part of gene', \n",
    "                    description='part of gene name:', \n",
    "                    style = style, disabled=False),\n",
    "                search_genes_from_list = Text(\n",
    "                    value='', \n",
    "                    placeholder='gene1|gene2', \n",
    "                    description='genes from list:', \n",
    "                    style = style, disabled=False),\n",
    "                hpo_term_name = Text(\n",
    "                    value='', \n",
    "                    placeholder='External ear malformation', \n",
    "                    description='HPO name:', \n",
    "                    style = style, disabled=False),\n",
    "                hpo_term_id = Text(\n",
    "                    value='', \n",
    "                    placeholder='HP:0012125', \n",
    "                    description='HPO id:', \n",
    "                    style = style, disabled=False),\n",
    "                hpo_id_in_list = Text(\n",
    "                    value='', \n",
    "                    placeholder='HP:0000001|HP:0000002', \n",
    "                    description='single HPO id in list:', \n",
    "                    style = style, disabled=False),\n",
    "                hpo_id_all_list = Text(\n",
    "                    value='', \n",
    "                    placeholder='HP:0000001|HP:0000002', \n",
    "                    description='all HPO ids from list:', \n",
    "                    style = style, disabled=False),\n",
    "                chrom = '',\n",
    "                chr_start = '',\n",
    "                chr_end = '',\n",
    "                position_upload = uploader\n",
    "               );\n"
   ]
  },
  {
   "cell_type": "markdown",
   "metadata": {},
   "source": [
    "### Download filtered list"
   ]
  },
  {
   "cell_type": "code",
   "execution_count": 58,
   "metadata": {},
   "outputs": [
    {
     "data": {
      "application/vnd.jupyter.widget-view+json": {
       "model_id": "6bef268664b44260801cc962f9bd16de",
       "version_major": 2,
       "version_minor": 0
      },
      "text/plain": [
       "VBox(children=(Button(description='Save table', style=ButtonStyle()), Output()))"
      ]
     },
     "metadata": {},
     "output_type": "display_data"
    }
   ],
   "source": [
    "# download filtered list\n",
    "button = widgets.Button(description='Save table')\n",
    "out = widgets.Output()\n",
    "\n",
    "def on_button_clicked(_):\n",
    "    check_password()\n",
    "    \n",
    "    # \"linking function with output\"\n",
    "    with out:\n",
    "        # what happens when we press the button\n",
    "        file = 'file://tmp/filtered_list.tsv'\n",
    "        if( 'df_filtered' in globals() ):\n",
    "            if( df_filtered.empty ):\n",
    "                print(\"Filtered list is empty\")\n",
    "                \n",
    "            else:\n",
    "                clear_output()\n",
    "                \n",
    "                title = \"RNAseq_filtering version: \"+version+\"; Tissue: \"+tissue +\"; Resultfile: \"+resultfile+\"; gene_panel: \"+panel+\"; Z-threshold: \"+Z+\"; ROH file: \"+uploaded_filename\n",
    "                index = df_filtered.index\n",
    "                index.name = title\n",
    "                \n",
    "                res = df_filtered.to_string()\n",
    "                #FILE\n",
    "                filename = 'res.tsv'\n",
    "                b64 = base64.b64encode(res.encode())\n",
    "                payload = b64.decode()\n",
    "\n",
    "                #BUTTONS\n",
    "                html_buttons = '''<html>\n",
    "                <head>\n",
    "                <meta name=\"viewport\" content=\"width=device-width, initial-scale=1\">\n",
    "                </head>\n",
    "                <body>\n",
    "                <a download=\"{filename}\" href=\"data:text/csv;base64,{payload}\" download>\n",
    "                <button class=\"p-Widget jupyter-widgets jupyter-button widget-button mod-warning\">Download File</button>\n",
    "                </a>\n",
    "                </body>\n",
    "                </html>\n",
    "                '''\n",
    "                html_button = html_buttons.format(payload=payload,filename=filename)\n",
    "                display(HTML(html_button))\n",
    "\n",
    "        else:\n",
    "            print(\"No filtered list available!\")\n",
    "\n",
    "# linking button and function together using a button's method\n",
    "button.on_click(on_button_clicked)\n",
    "# displaying button and its output together\n",
    "widgets.VBox([button,out])"
   ]
  },
  {
   "cell_type": "markdown",
   "metadata": {},
   "source": [
    "## Volcano plot"
   ]
  },
  {
   "cell_type": "code",
   "execution_count": 59,
   "metadata": {},
   "outputs": [
    {
     "data": {
      "application/vnd.jupyter.widget-view+json": {
       "model_id": "7c38d43cfa2b4d678678b8dfcd038bf4",
       "version_major": 2,
       "version_minor": 0
      },
      "text/plain": [
       "interactive(children=(Text(value='5', description='Z score threshold:', placeholder='5', style=DescriptionStyl…"
      ]
     },
     "metadata": {},
     "output_type": "display_data"
    }
   ],
   "source": [
    "def volcano_plot(Z_threshold, p_threshold, max_gene_annot, only_panelgenes ):\n",
    "    check_password()\n",
    "    \n",
    "    Z_threshold = float(Z_threshold)\n",
    "    p_threshold = float(p_threshold)\n",
    "    max_gene_annot = int(max_gene_annot)\n",
    "    \n",
    "    df = stats\n",
    "    \n",
    "    df_orange = df.loc[ df['zScore'].abs() >= Z_threshold]\n",
    "    df_orange = df_orange.loc[ df['pValue'] <= p_threshold]\n",
    "    df_orange = df_orange.iloc[0:max_gene_annot]\n",
    "    \n",
    "    if( 'genes' in globals() ):\n",
    "        if genes:\n",
    "            df_red = df.loc[df['gene'].isin(genes)]\n",
    "            df_red = df_red.loc[ df_red['zScore'].abs() >= Z_threshold]\n",
    "        else:\n",
    "            df_red = df.loc[ df['zScore'].abs() >= Z_threshold]\n",
    "            \n",
    "    df_red = df_red.loc[ df_red['pValue'] <= p_threshold]\n",
    "    df_red = df_red.iloc[0:max_gene_annot]\n",
    "    \n",
    "    #plotly    \n",
    "    fig = make_subplots(rows=1, cols=1)\n",
    "    # all data\n",
    "    fig.add_scatter(x = df['zScore'].values[0:10000], \n",
    "                    y = - np.log( df['pValue'] )[0:10000], \n",
    "                    mode=\"markers\",\n",
    "                    marker=dict(color=\"Blue\"),\n",
    "                    row=1, col=1)\n",
    "    \n",
    "        \n",
    "    # sample data all genes\n",
    "    if (only_panelgenes == \"no\"):\n",
    "        gene_names = df_orange['gene']\n",
    "        fig.add_scatter(x = df_orange['zScore'], \n",
    "                        y = - np.log( df_orange['pValue'] ), \n",
    "                        mode=\"markers+text\",\n",
    "                        marker=dict(color=\"orange\"),\n",
    "                        row=1, col=1, text = gene_names, textposition = 'top center', textfont_size = 10)\n",
    "    \n",
    "    # sample data panelgenes \n",
    "    gene_names = df_red['gene']\n",
    "    fig.add_scatter(x = df_red['zScore'], \n",
    "                    y = - np.log( df_red['pValue'] ), \n",
    "                    mode=\"markers+text\",\n",
    "                    marker=dict(color=\"darkred\"),\n",
    "                    row=1, col=1, text = gene_names, textposition = 'top center', textfont_size = 10)\n",
    "    \n",
    " \n",
    "    fig.update_layout(title= current_sample_ID, title_x = 0.5, height = 750, width = 1000,\n",
    "                      showlegend = False)\n",
    "    fig.update_xaxes(title_text=\"Z-Score\", showgrid=False)\n",
    "    fig.update_yaxes(title_text=\"-log10(Pvalue)\", showgrid=False)    \n",
    "        \n",
    "    \n",
    "    display(fig)\n",
    "\n",
    "interact_manual(volcano_plot,\n",
    "                Z_threshold = Text(\n",
    "                    value='5', \n",
    "                    placeholder='5', \n",
    "                    description='Z score threshold:', \n",
    "                    style = style, disabled=False),\n",
    "                p_threshold = Text(\n",
    "                    value='0.01', \n",
    "                    placeholder='0.01', \n",
    "                    description='p-value threshold:', \n",
    "                    style = style, disabled=False),\n",
    "                max_gene_annot = Text(\n",
    "                    value='100', \n",
    "                    placeholder='100', \n",
    "                    description='max number of annotated genes:', \n",
    "                    style = style, disabled=False),\n",
    "                only_panelgenes = RadioButtons(\n",
    "                    options=['yes','no'],\n",
    "                    value='yes', \n",
    "                    description='show only panelgenes?',\n",
    "                    disabled=False, style = style)\n",
    "           );"
   ]
  },
  {
   "cell_type": "markdown",
   "metadata": {},
   "source": [
    "## All fragments in Gene of Interest\n",
    "\n"
   ]
  },
  {
   "cell_type": "code",
   "execution_count": 18,
   "metadata": {},
   "outputs": [
    {
     "data": {
      "application/vnd.jupyter.widget-view+json": {
       "model_id": "5d34f91ba6d34948a245beb5780864b2",
       "version_major": 2,
       "version_minor": 0
      },
      "text/plain": [
       "interactive(children=(Text(value='', description='search gene:', placeholder='RALGAPA1', style=DescriptionStyl…"
      ]
     },
     "metadata": {},
     "output_type": "display_data"
    },
    {
     "data": {
      "text/plain": [
       "<function __main__.gene_of_interest_plot(search_gene)>"
      ]
     },
     "execution_count": 18,
     "metadata": {},
     "output_type": "execute_result"
    }
   ],
   "source": [
    "# show all fragments for a gene of interest (only for exons and introns)\n",
    "def gene_of_interest_plot(search_gene):\n",
    "    check_password()\n",
    "    \n",
    "    df = stats\n",
    "    \n",
    "    if search_gene.strip(' ') == '':\n",
    "        print(\"Submit gene name.\")\n",
    "        \n",
    "    else:      \n",
    "        # define chr.start position\n",
    "        df = df.assign(start1 = df['geneID'].apply(lambda x: x.split('_')[1]  ))        \n",
    "        df = df.loc[ df['gene'] == search_gene]\n",
    "\n",
    "        if( df.empty):\n",
    "            print(\"Invalid gene name or gene not in data\")\n",
    "            \n",
    "        else:\n",
    "            df.sort_values('geneID', axis = 0, inplace=True, ascending =True)\n",
    "\n",
    "            # plot  \n",
    "            if re.search('intron',filename):\n",
    "                x = df['geneID']\n",
    "                y = df['zScore']\n",
    "               \n",
    "            else:\n",
    "                x = df['start1']\n",
    "                y = df['zScore']\n",
    "                \n",
    "            fig = px.line(x = x, y = y)\n",
    "            fig.update_xaxes(title_text=\"chr_start_position\", showgrid=True)\n",
    "            fig.update_yaxes(title_text=current_sample_ID, showgrid=False)\n",
    "            fig.add_hline(y=0, line_dash=\"dash\", line_color = 'grey')\n",
    "            fig.update_layout(title= search_gene, title_x = 0.5, height=550, \n",
    "                      showlegend = False)\n",
    "\n",
    "            fig.show()\n",
    "            \n",
    "    \n",
    "interact_manual(gene_of_interest_plot,\n",
    "               search_gene = Text(\n",
    "                    value='', \n",
    "                    placeholder='RALGAPA1', \n",
    "                    description='search gene:', \n",
    "                    style = style, disabled=False))"
   ]
  },
  {
   "cell_type": "markdown",
   "metadata": {},
   "source": [
    "## Exon ranking plot\n",
    "\n",
    "This may take a while (up to a few minutes).\n",
    "You can fill in a (unique) part of the geneID"
   ]
  },
  {
   "cell_type": "code",
   "execution_count": 19,
   "metadata": {
    "scrolled": true
   },
   "outputs": [
    {
     "data": {
      "application/vnd.jupyter.widget-view+json": {
       "model_id": "5e161fb972e44acc985b2214750716fb",
       "version_major": 2,
       "version_minor": 0
      },
      "text/plain": [
       "interactive(children=(Text(value='', description='gene_ID:', placeholder='chr17_79649179_79650042_ARL16', styl…"
      ]
     },
     "metadata": {},
     "output_type": "display_data"
    },
    {
     "data": {
      "text/plain": [
       "<function __main__.ranking_plot(gene_ID)>"
      ]
     },
     "execution_count": 19,
     "metadata": {},
     "output_type": "execute_result"
    }
   ],
   "source": [
    "# compare zScore of a fragment: chosen sample vs all samples\n",
    "def ranking_plot(gene_ID):\n",
    "    check_password()\n",
    "    \n",
    "    global df_gene\n",
    "    \n",
    "    if gene_ID == '':\n",
    "        print('invalid gene_ID')\n",
    "    \n",
    "    else:\n",
    "        df_gene = pd.read_csv(path)\n",
    "\n",
    "        df_gene.sort_values('normcounts', axis = 0, inplace=True, ascending =True)\n",
    "\n",
    "        df_red = df_gene.loc[ df_gene['sampleID'] == current_sample_ID]\n",
    "\n",
    "        clear_output()\n",
    "        \n",
    "        # plot\n",
    "        fig = make_subplots(rows=1, cols=1)\n",
    "        # all data\n",
    "        fig.add_scatter(x=df_gene['sampleID'], y = df_gene['normcounts'], mode=\"markers\",\n",
    "                        marker=dict(color=\"lightgrey\"),\n",
    "                        row=1, col=1, text=df_gene['sampleID'])\n",
    "        # sample data       \n",
    "        fig.add_scatter(x = df_red['sampleID'], y = df_red['normcounts'],\n",
    "                    marker=dict(color=\"Red\"),\n",
    "                    row=1, col=1, text=df_gene['sampleID'])\n",
    "\n",
    "        fig.update_traces(hoverinfo = 'text', selector = dict(type='scatter'), \n",
    "                           hoverlabel = dict(namelength = -1))\n",
    "        fig.update_layout(title= gene_ID, title_x = 0.3, height=800, width = 1200, \n",
    "                          showlegend = False, template = \"simple_white\")\n",
    "        fig.update_xaxes(title_text=\"sampleID\", showgrid=False, automargin=True) #font smaller\n",
    "        fig.update_yaxes(title_text=\"norm. counts\", showgrid=False)\n",
    "\n",
    "        fig.show()\n",
    "\n",
    "        # display table\n",
    "        display(HTML_with_style(df_gene[[\"sampleID\",\"normcounts\"]]))\n",
    "    \n",
    "\n",
    "interact_manual(ranking_plot,\n",
    "                gene_ID = Text(\n",
    "                    value='', \n",
    "                    placeholder='chr17_79649179_79650042_ARL16', \n",
    "                    description='gene_ID:', \n",
    "                    style = style, disabled=False)\n",
    "        )"
   ]
  },
  {
   "cell_type": "markdown",
   "metadata": {},
   "source": [
    "## Z-score on chromosome"
   ]
  },
  {
   "cell_type": "code",
   "execution_count": 20,
   "metadata": {
    "scrolled": true
   },
   "outputs": [
    {
     "data": {
      "application/vnd.jupyter.widget-view+json": {
       "model_id": "7ec4e4c8da494f6f88da41d5aa48eb51",
       "version_major": 2,
       "version_minor": 0
      },
      "text/plain": [
       "interactive(children=(Text(value='100000', description='N_Z_scores'), Button(description='Run Interact', style…"
      ]
     },
     "metadata": {},
     "output_type": "display_data"
    }
   ],
   "source": [
    "# global view of zScores (chosen sample) along the chromosomes\n",
    "def plot_Z_scores_on_chromosome2(N_Z_scores):\n",
    "    global df\n",
    "    check_password()\n",
    "\n",
    "    N = int(N_Z_scores)\n",
    "    df  = stats\n",
    "\n",
    "    if( N > df.shape[0]):\n",
    "        N = df.shape[0] -1\n",
    "\n",
    "    ind = random.sample( list(range(len(df))),N) \n",
    "    df = df.iloc[ ind,: ]\n",
    "\n",
    "    df = df.sort_values(by = ['chr', 'start'])\n",
    "\n",
    "    chromosomes = df['chr'].unique()\n",
    "\n",
    "    # color\n",
    "    color = px.colors.qualitative.Alphabet\n",
    "    chr_with_color = { c: color[i] for i,c in enumerate(chromosomes)}\n",
    "\n",
    "    gb = df.groupby('chr')\n",
    "    chromomes = [ 'chr'+str(i) for i in range(1,23)]\n",
    "    chromomes.extend(['chrX','chrY'])\n",
    "    chromomes.sort()\n",
    "\n",
    "    fig = make_subplots(rows=13, cols=2, subplot_titles= chromomes)\n",
    "\n",
    "    odd = 1\n",
    "    even = 1\n",
    "    for i, chromosome in enumerate(chromomes):\n",
    "        if( chromosome not in gb.groups):\n",
    "            continue\n",
    "        \n",
    "        df_chrom = gb.get_group(chromosome)\n",
    "        \n",
    "        # define color\n",
    "        c = chr_with_color[chromosome] \n",
    "\n",
    "        # define data\n",
    "        x = df_chrom['start'].sort_values()\n",
    "        y=df_chrom['zScore']\n",
    "        y_rol = y.rolling(window= int( len(df_chrom) *0.05),center=True).mean()\n",
    "        \n",
    "        # subplots\n",
    "        if i % 2:            \n",
    "            fig.add_scatter(x=x, y=y, mode=\"markers\",\n",
    "                                marker=dict(color=c),\n",
    "                                row=even, col=2, name=chromosome)\n",
    "            fig.add_scatter(x=x, y=y_rol, mode=\"lines\",\n",
    "                                line_color = 'black',\n",
    "                                row=even, col=2)\n",
    "            even += 1\n",
    "            \n",
    "        else:\n",
    "            fig.add_scatter(x=x, y=y, mode=\"markers\",\n",
    "                                marker=dict(color=c),\n",
    "                                row=odd, col=1, name=chromosome)\n",
    "            fig.add_scatter(x=x, y=y_rol, mode=\"lines\",\n",
    "                                line_color = 'black',\n",
    "                                row=odd, col=1)            \n",
    "            odd += 1\n",
    "        \n",
    "        \n",
    "        fig.update_layout(title= current_sample_ID, title_x = 0.5, width = 1400, height = 8000, \n",
    "                          showlegend = False)\n",
    "        fig.update_xaxes(title_text=\"Chromosomal position\", showgrid=False)\n",
    "        fig.update_yaxes(title_text=\"Z-Score\", showgrid=False)\n",
    "        fig.add_hline(y=0, line_dash=\"dash\", line_color = 'grey')\n",
    "        \n",
    "    \n",
    "    display(fig)\n",
    "\n",
    "\n",
    "interact_manual(plot_Z_scores_on_chromosome2, N_Z_scores = '100000' );\n",
    "        "
   ]
  },
  {
   "cell_type": "markdown",
   "metadata": {},
   "source": [
    "## Panels of filtered genes"
   ]
  },
  {
   "cell_type": "code",
   "execution_count": 21,
   "metadata": {},
   "outputs": [
    {
     "data": {
      "application/vnd.jupyter.widget-view+json": {
       "model_id": "0b8d83107f344407ab3136e2df6af7a3",
       "version_major": 2,
       "version_minor": 0
      },
      "text/plain": [
       "interactive(children=(Button(description='Run Interact', style=ButtonStyle()), Output()), _dom_classes=('widge…"
      ]
     },
     "metadata": {},
     "output_type": "display_data"
    },
    {
     "data": {
      "text/plain": [
       "<function __main__.panel_filtered_genes()>"
      ]
     },
     "execution_count": 21,
     "metadata": {},
     "output_type": "execute_result"
    }
   ],
   "source": [
    "# show all genepanels of filtered genes\n",
    "def panel_filtered_genes():\n",
    "    global df_panel\n",
    "    \n",
    "    goi = list(set(df_filtered['gene']))\n",
    "    display(widgets.HTML(tags.h5(\"Genepanels of all filtered genes: \"+ str(goi)).render()))\n",
    "\n",
    "    panels = gene_panel_with_genes\n",
    "    list_genes = goi\n",
    "    l_key = []\n",
    "    list_of_lists = []\n",
    "\n",
    "    for search_val in list_genes:\n",
    "        for key, val in panels.items():\n",
    "            if search_val in val:\n",
    "                list_of_lists.append([search_val,key])\n",
    "\n",
    "    df_panel = pd.DataFrame(list_of_lists, columns=[\"gene\",\"panels\"])\n",
    "\n",
    "    display(df_panel)\n",
    "    \n",
    "interact_manual(panel_filtered_genes)"
   ]
  },
  {
   "cell_type": "code",
   "execution_count": 22,
   "metadata": {},
   "outputs": [
    {
     "data": {
      "application/vnd.jupyter.widget-view+json": {
       "model_id": "68ef3cbd976248068e5e644db906d122",
       "version_major": 2,
       "version_minor": 0
      },
      "text/plain": [
       "VBox(children=(Button(description='Save table panels', style=ButtonStyle()), Output()))"
      ]
     },
     "metadata": {},
     "output_type": "display_data"
    }
   ],
   "source": [
    "# download\n",
    "button = widgets.Button(description='Save table panels')\n",
    "out1 = widgets.Output()\n",
    "\n",
    "def on_button_clicked1(_):\n",
    "    check_password()\n",
    "    \n",
    "    # \"linking function with output\"\n",
    "    with out1:\n",
    "        # what happens when we press the button\n",
    "        file = 'file://tmp/panels_filtered_list.tsv'\n",
    "        if( 'df_panel' in globals() ):\n",
    "            if( df_panel.empty ):\n",
    "                print(\"Panels of filtered genelist is empty\")\n",
    "                \n",
    "            else:\n",
    "                clear_output()\n",
    "                \n",
    "                title = \"RNAseq_filtering version: \"+version+\"; Tissue: \"+tissue +\"; Resultfile: \"+resultfile+\"; gene_panel: \"+panel+\"; Z-threshold: \"+Z+\"; ROH file: \"+uploaded_filename\n",
    "                index = df_panel.index\n",
    "                index.name = title\n",
    "                \n",
    "                res1 = df_panel.to_string()\n",
    "                #FILE\n",
    "                filename = 'panels.tsv'\n",
    "                b64 = base64.b64encode(res1.encode())\n",
    "                payload = b64.decode()\n",
    "\n",
    "                #BUTTONS\n",
    "                html_buttons = '''<html>\n",
    "                <head>\n",
    "                <meta name=\"viewport\" content=\"width=device-width, initial-scale=1\">\n",
    "                </head>\n",
    "                <body>\n",
    "                <a download=\"{filename}\" href=\"data:text/csv;base64,{payload}\" download>\n",
    "                <button class=\"p-Widget jupyter-widgets jupyter-button widget-button mod-warning\">Download File</button>\n",
    "                </a>\n",
    "                </body>\n",
    "                </html>\n",
    "                '''\n",
    "                html_button = html_buttons.format(payload=payload,filename=filename)\n",
    "                display(HTML(html_button))\n",
    "\n",
    "        else:\n",
    "            print(\"No panellist available!\")\n",
    "\n",
    "# linking button and function together using a button's method\n",
    "button.on_click(on_button_clicked1)\n",
    "# displaying button and its output together\n",
    "widgets.VBox([button,out1])"
   ]
  },
  {
   "cell_type": "markdown",
   "metadata": {},
   "source": [
    "## HPO terms of filtered genes"
   ]
  },
  {
   "cell_type": "code",
   "execution_count": 23,
   "metadata": {},
   "outputs": [
    {
     "data": {
      "application/vnd.jupyter.widget-view+json": {
       "model_id": "97f0ec1e24ec4a569e9b44659367992f",
       "version_major": 2,
       "version_minor": 0
      },
      "text/plain": [
       "interactive(children=(Button(description='Run Interact', style=ButtonStyle()), Output()), _dom_classes=('widge…"
      ]
     },
     "metadata": {},
     "output_type": "display_data"
    },
    {
     "data": {
      "text/plain": [
       "<function __main__.hpo_filtered_genes()>"
      ]
     },
     "execution_count": 23,
     "metadata": {},
     "output_type": "execute_result"
    }
   ],
   "source": [
    "# show all HPO terms of the filtered genes\n",
    "def hpo_filtered_genes():\n",
    "    global df_hpo\n",
    "    \n",
    "    # df for hpo terms\n",
    "    loc_hpo = './hpo/genes_to_phenotype.txt'\n",
    "    df_hpo = pd.read_csv(loc_hpo, sep='\\t', header = 0,\n",
    "                         names = [\"entrez_gene_id\",\"entrez_gene_symbol\",\"HPO_term_id\",\"HPO_term_name\", \n",
    "                                  \"Frequency_Raw\",\"Frequency_HPO\",\"Additional_info\", \"G-D_source\",\"disease_id\"])\n",
    "\n",
    "    # list of genes from df_filtered\n",
    "    goi = list(set(df_filtered['gene']))\n",
    "    display(widgets.HTML(tags.h5(\"HPO terms of all filtered genes: \"+ str(goi)).render()))\n",
    "    df_hpo = df_hpo.loc[df_hpo[\"entrez_gene_symbol\"].isin(goi)]\n",
    "    display(HTML_with_style(df_hpo.iloc[:]))\n",
    "\n",
    "interact_manual(hpo_filtered_genes)\n"
   ]
  },
  {
   "cell_type": "code",
   "execution_count": null,
   "metadata": {},
   "outputs": [],
   "source": [
    "# download\n",
    "button = widgets.Button(description='Save table HPO')\n",
    "out2 = widgets.Output()\n",
    "\n",
    "def on_button_clicked2(_):\n",
    "    check_password()\n",
    "    \n",
    "    # \"linking function with output\"\n",
    "    with out2:\n",
    "        # what happens when we press the button\n",
    "        file = 'file://tmp/hpo_filtered_list.tsv'\n",
    "        if( 'df_hpo' in globals() ):\n",
    "            if( df_hpo.empty ):\n",
    "                print(\"HPO filtered list is empty\")\n",
    "                \n",
    "            else:\n",
    "                clear_output()\n",
    "                \n",
    "                title = \"RNAseq_filtering version: \"+version+\"; Tissue: \"+tissue +\"; Resultfile: \"+resultfile+\"; gene_panel: \"+panel+\"; Z-threshold: \"+Z+\"; ROH file: \"+uploaded_filename\n",
    "                index = df_hpo.index\n",
    "                index.name = title\n",
    "                \n",
    "                res2 = df_hpo.to_string()\n",
    "                #FILE\n",
    "                filename = 'hpo.tsv'\n",
    "                b64 = base64.b64encode(res2.encode())\n",
    "                payload = b64.decode()\n",
    "\n",
    "                #BUTTONS\n",
    "                html_buttons = '''<html>\n",
    "                <head>\n",
    "                <meta name=\"viewport\" content=\"width=device-width, initial-scale=1\">\n",
    "                </head>\n",
    "                <body>\n",
    "                <a download=\"{filename}\" href=\"data:text/csv;base64,{payload}\" download>\n",
    "                <button class=\"p-Widget jupyter-widgets jupyter-button widget-button mod-warning\">Download File</button>\n",
    "                </a>\n",
    "                </body>\n",
    "                </html>\n",
    "                '''\n",
    "                html_button = html_buttons.format(payload=payload,filename=filename)\n",
    "                display(HTML(html_button))\n",
    "\n",
    "        else:\n",
    "            print(\"No HPO filtered list available!\")\n",
    "\n",
    "# linking button and function together using a button's method\n",
    "button.on_click(on_button_clicked2)\n",
    "# displaying button and its output together\n",
    "widgets.VBox([button,out2])"
   ]
  },
  {
   "cell_type": "markdown",
   "metadata": {},
   "source": [
    "## HPO terms of gene of interest"
   ]
  },
  {
   "cell_type": "code",
   "execution_count": null,
   "metadata": {},
   "outputs": [],
   "source": [
    "# Show HPO terms for a gene of interest\n",
    "def gene_of_interest_hpo(hpo_gene):\n",
    "    check_password()\n",
    "    \n",
    "    if hpo_gene.strip(' ') == '':\n",
    "        print(\"Submit gene name.\")\n",
    "        \n",
    "    else:      \n",
    "        loc_hpo = './hpo/genes_to_phenotype.txt'\n",
    "        df_hpo = pd.read_csv(loc_hpo, sep='\\t', header = 0,\n",
    "                             names = [\"entrez_gene_id\",\"entrez_gene_symbol\",\"HPO_term_id\",\"HPO_term_name\", \"Frequency_Raw\",\"Frequency_HPO\",\n",
    "                                      \"Additional_info\", \"G-D_source\",\"disease_id\"])\n",
    "        df_hpo = df_hpo.loc[df_hpo['entrez_gene_symbol'] == hpo_gene]\n",
    "        \n",
    "        # sort\n",
    "        df_hpo = df_hpo.sort_values(by= \"HPO_term_id\")\n",
    "        \n",
    "        display(HTML_with_style(df_hpo.iloc[:]))\n",
    "\n",
    "interact_manual(gene_of_interest_hpo,\n",
    "               hpo_gene = Text(\n",
    "                    value='', \n",
    "                    placeholder='RALGAPA1', \n",
    "                    description='search gene:', \n",
    "                    style = style, disabled=False))"
   ]
  },
  {
   "cell_type": "markdown",
   "metadata": {},
   "source": [
    "## Genes with HPO_term"
   ]
  },
  {
   "cell_type": "code",
   "execution_count": null,
   "metadata": {},
   "outputs": [],
   "source": [
    "# Find genes with a certain HPO term (name or id)\n",
    "def hpo(hpo_term_name, hpo_term_id):\n",
    "    check_password()\n",
    "   \n",
    "    loc_hpo = './hpo/phenotype_to_genes.txt'\n",
    "    df_hpo = pd.read_csv(loc_hpo, sep='\\t', header = 0,\n",
    "                         names = [\"HPO_term_id\",\"HPO_term_name\",\"entrez_gene_id\",\"entrez_gene_name\", \"Frequency_HPO\",\"G-D_source\",\n",
    "                                  \"disease_id\"])\n",
    "    if hpo_term_id != \"\":\n",
    "        if hpo_term_name != \"\":\n",
    "            display(\"fill in only HPO_term_id or HPO_term_name, not both\")\n",
    "        else:\n",
    "            if hpo_term_id.startswith('HP'):\n",
    "                hpo_term_id = hpo_term_id\n",
    "            else:\n",
    "                hpo_term_id = 'HP:' + str(hpo_term_id)\n",
    "            df_hpo = df_hpo.loc[df_hpo[\"HPO_term_id\"] == hpo_term_id]\n",
    "            # sort\n",
    "            df_hpo = df_hpo.sort_values(by= \"entrez_gene_name\")\n",
    "            display(HTML_with_style(df_hpo.iloc[:]))\n",
    "    else:\n",
    "        if hpo_term_name == \"\":\n",
    "            display(\"fill in only HPO_term_id or HPO_term_name, not both\")\n",
    "        else:\n",
    "            hpo_term_name = hpo_term_name.lower()\n",
    "            df_hpo = df_hpo.loc[ df_hpo['HPO_term_name'].str.contains( hpo_term_name, na=False, case=False ) ]\n",
    "            # sort\n",
    "            df_hpo = df_hpo.sort_values(by= \"entrez_gene_name\")\n",
    "            display(HTML_with_style(df_hpo.iloc[:]))\n",
    "        \n",
    "interact_manual(hpo,\n",
    "               hpo_term_name = Text(\n",
    "                    value='', \n",
    "                    placeholder='External ear malformation', \n",
    "                    description='HPO term name:', \n",
    "                    style = style, disabled=False),\n",
    "                hpo_term_id = Text(\n",
    "                    value='', \n",
    "                    placeholder='HP:0012125', \n",
    "                    description='HPO term id:', \n",
    "                    style = style, disabled=False)\n",
    "               )"
   ]
  },
  {
   "cell_type": "markdown",
   "metadata": {},
   "source": [
    "## Panelgenes without HPO terms\n",
    "#### Tabel of genes from the chosen panel without available HPO terms."
   ]
  },
  {
   "cell_type": "code",
   "execution_count": null,
   "metadata": {},
   "outputs": [],
   "source": [
    "# which panelgenes do not have HPO terms available (only works when a panel is chosen at the filtering of zScores)\n",
    "def hpo_panel():\n",
    "    check_password()\n",
    "    \n",
    "    if ('panel' in globals() ):\n",
    "        if panel == 'all':\n",
    "            display(widgets.HTML(tags.h5(\"No panel selected\").render()))\n",
    "        else:    \n",
    "            display(widgets.HTML(tags.h5(\"Panel: \"+ panel).render()))  \n",
    "\n",
    "            # make list of unique panel genes\n",
    "            loc_panel = './panels_alias_or/'\n",
    "            panelfile = loc_panel + panel + '.csv'\n",
    "            fileObj1 = open(panelfile, 'r')\n",
    "\n",
    "            genes = []\n",
    "            for line in fileObj1.readlines():\n",
    "                gene = line.split('\\n')[0]\n",
    "                genes.append(gene)\n",
    "            fileObj1.close()\n",
    "            panel_genes = set(genes)\n",
    "\n",
    "            # make list of hpo genes\n",
    "            #loc_hpo = 'HPO_unique_genes.txt'\n",
    "            loc_hpo = './hpo/HPO_unique_genes.txt'\n",
    "            fileObj_hpo = open(loc_hpo, \"r\")\n",
    "            hpo_gene = []\n",
    "            for line in fileObj_hpo.readlines():\n",
    "                gene = line.split('\\n')[0]\n",
    "                hpo_gene.append(gene)\n",
    "            fileObj_hpo.close()\n",
    "            hpo_genes = set(hpo_gene)\n",
    "\n",
    "            # make dataframe of difference\n",
    "            no_hpo_list = []\n",
    "            for panelgene in panel_genes:\n",
    "                in_hpo = 'False'\n",
    "                gene = (panelgene.split('|'))\n",
    "                for x in gene:\n",
    "                    if x in hpo_genes:\n",
    "                        in_hpo = 'True'\n",
    "\n",
    "                if in_hpo == 'False':\n",
    "                    first_gene = panelgene.split('|')[0]\n",
    "                    no_hpo_list.append(first_gene)\n",
    "\n",
    "            df_diff = pd.DataFrame(columns=['Panel','Genes_no_HPO'])\n",
    "            for g in no_hpo_list:\n",
    "                df_diff =  df_diff.append({'Panel':panel, 'Genes_no_HPO':g}, ignore_index=True)\n",
    "            display(HTML_with_style(df_diff.iloc[:].sort_values(by = \"Genes_no_HPO\").reset_index(drop=True)))\n",
    "\n",
    "interact_manual(hpo_panel)\n"
   ]
  },
  {
   "cell_type": "markdown",
   "metadata": {},
   "source": [
    "## Low Expressed Genes in ROH\n",
    "#### Tabel of genes which are lowly expressed in the regions of the uploaded file.\n",
    "##### Default cpm-threshold of 1 means at least 20 counts of the fragment in a total library size of 20 million reads."
   ]
  },
  {
   "cell_type": "code",
   "execution_count": null,
   "metadata": {},
   "outputs": [],
   "source": [
    "# Genes which are low expressed in ROH (upload file)\n",
    "\n",
    "def Low_ROH (cpm_threshold):\n",
    "    \n",
    "    cpm_threshold = float(cpm_threshold)\n",
    "    main_path_file = './countfiles_all_exp/'    \n",
    "\n",
    "    if ('df_position', 'fragments', 'experiment' in globals() ):\n",
    "        if len(position) != 0:\n",
    "            file = experiment + '_ht2_' + fragments + '_counts.tsv'\n",
    "            \n",
    "            if cpm_threshold != 0:\n",
    "\n",
    "                if file != '':\n",
    "                    path = main_path_file + file\n",
    "                    countdata = pd.read_csv(path, sep='\\t').set_index('Unnamed: 0')\n",
    "                    countdata = countdata.loc[:,(countdata.columns.isin(metadata_species['sample_id']))]\n",
    "\n",
    "                    # create table with count per million (cpm) (correction for library size)\n",
    "                    df_cpm = countdata\n",
    "                    columns = list(df_cpm)\n",
    "                    for i in columns:\n",
    "                        df_cpm[i] = (df_cpm[i] / df_cpm[i].sum())*1000000\n",
    "\n",
    "                    # lager dan CPM = 1 is beter om niet te gebruiken (minstens 20 counts bij een lib size van 20 miljoen)\n",
    "                    # genen met een median lager dan cpm = threshold en met totalcounts > 0\n",
    "                    df_low= df_cpm.assign(median_counts = df_cpm.median(axis=1))    \n",
    "                    df_low = df_low.loc[df_low['median_counts'] < cpm_threshold]\n",
    "                    df_low = df_low.drop(['median_counts'], axis=1)\n",
    "                    df_low= df_low.assign(sum_counts = df_low.sum(axis=1))\n",
    "                    df_low = df_low.loc[df_low['sum_counts'] > 0]\n",
    "                    df_low = df_low.drop(['sum_counts'], axis=1)\n",
    "                    df_low.reset_index(level=0, inplace=True)\n",
    "\n",
    "                    # welke genen komen laag tot expressie in gekozen weefsel?\n",
    "                    df_low = df_low.loc[:,['Unnamed: 0']]\n",
    "                    df_low[['chr','start','end','gene_fragment']] = df_low['Unnamed: 0'].str.split('_',3,expand=True)\n",
    "                    df_low = pd.DataFrame(df_low)\n",
    "                    df_low[['start','end']] = df_low[['start','end']].apply(pd.to_numeric)\n",
    "\n",
    "                    # filter df\n",
    "                    # make empty dataframe\n",
    "                    # search per line of df_position, make dataframe and append to empty df\n",
    "                    df_empty = pd.DataFrame(columns= list(df_low.columns))\n",
    "                    for i, j in df_position.iterrows():\n",
    "                        chrom = str(j[0])\n",
    "                        if chrom.startswith('chr'):\n",
    "                            chrom = chrom\n",
    "                        else:\n",
    "                            chrom = 'chr' + chrom\n",
    "                        start = j[1]\n",
    "                        end = j[2]\n",
    "                        df_roh_filter = df_low.loc[ (df_low['chr'] == chrom) & (df_low['start'] >= start) & (df_low['end'] <= end) ]\n",
    "                        df_empty = df_empty.append(df_roh_filter, ignore_index=True)\n",
    "                        df_roh = df_empty\n",
    "\n",
    "                display(df_roh[['chr','start','end','gene_fragment']])\n",
    "                \n",
    "            else:\n",
    "                display(widgets.HTML(tags.h5(\"cpm_threshold could not be 0\").render()))\n",
    "            \n",
    "        else:\n",
    "            display(widgets.HTML(tags.h5(\"No Upload file present\").render()))\n",
    "            \n",
    "\n",
    "interact_manual(Low_ROH,\n",
    "               cpm_threshold = Text(\n",
    "                    value='1', \n",
    "                    style = style, disabled=False)\n",
    "               )"
   ]
  },
  {
   "cell_type": "markdown",
   "metadata": {},
   "source": [
    "## Low Expressed Genes in ROH\n",
    "#### Tabel of genes which are lowly expressed in the regions of the uploaded file.\n",
    "##### Default tpm-threshold of 0.1875 means 15 reads of the fragment in a total library size of 80 million reads."
   ]
  },
  {
   "cell_type": "code",
   "execution_count": null,
   "metadata": {},
   "outputs": [],
   "source": [
    "# based on TPM (transcripts per million)\n",
    "# Genes which are low expressed in ROH (upload file)\n",
    "\n",
    "def Low_ROH (tpm_threshold):\n",
    "    \n",
    "    tpm_threshold = float(tpm_threshold)\n",
    "    main_path_file = './countfiles_all_exp/'    \n",
    "\n",
    "    if ('df_position', 'fragments', 'experiment' in globals() ):\n",
    "        if len(position) != 0:\n",
    "            file = experiment + '_ht2_' + fragments + '_TPM.tsv'\n",
    "\n",
    "            if tpm_threshold != 0:\n",
    "\n",
    "                if file != '':\n",
    "                    path = main_path_file + file\n",
    "                    countdata = pd.read_csv(path, sep='\\t').set_index('Unnamed: 0')\n",
    "                    countdata = countdata.loc[:,(countdata.columns.isin(metadata_species['sample_id']))]\n",
    "                    df_tpm = countdata\n",
    "                    #display(df_tpm)\n",
    "\n",
    "                    # default threshold tpm = 0.1875, appr. 15 reads per 40 million x2(paired-end) reads\n",
    "                    # genen met een median lager dan tpm = threshold en met totalcounts > 0\n",
    "                    df_low= df_tpm.assign(median_counts = df_tpm.median(axis=1))\n",
    "                    df_low = df_low.loc[df_low['median_counts'] < tpm_threshold]\n",
    "                    df_low = df_low.drop(['median_counts'], axis=1)\n",
    "                    df_low= df_low.assign(sum_counts = df_low.sum(axis=1))\n",
    "                    df_low = df_low.loc[df_low['sum_counts'] > 0]\n",
    "                    df_low = df_low.drop(['sum_counts'], axis=1)\n",
    "                    df_low.reset_index(level=0, inplace=True)\n",
    "\n",
    "                    # welke genen komen laag tot expressie in gekozen weefsel?\n",
    "                    df_low = df_low.loc[:,['Unnamed: 0']]\n",
    "                    df_low[['chr','start','end','gene_fragment']] = df_low['Unnamed: 0'].str.split('_',3,expand=True)\n",
    "                    df_low = pd.DataFrame(df_low)\n",
    "                    df_low[['start','end']] = df_low[['start','end']].apply(pd.to_numeric)\n",
    "                    #display(df_low)\n",
    "                    \n",
    "                    # filter df\n",
    "                    # make empty dataframe\n",
    "                    # search per line of df_position, make dataframe and append to empty df\n",
    "                    df_empty = pd.DataFrame(columns= list(df_low.columns))\n",
    "                    for i, j in df_position.iterrows():\n",
    "                        chrom = str(j[0])\n",
    "                        if chrom.startswith('chr'):\n",
    "                            chrom = chrom\n",
    "                        else:\n",
    "                            chrom = 'chr' + chrom\n",
    "                        start = j[1]\n",
    "                        end = j[2]\n",
    "                        df_roh_filter = df_low.loc[ (df_low['chr'] == chrom) & (df_low['start'] >= start) & (df_low['end'] <= end) ]\n",
    "                        df_empty = df_empty.append(df_roh_filter, ignore_index=True)\n",
    "                        df_roh = df_empty\n",
    "\n",
    "                display(df_roh[['chr','start','end','gene_fragment']])\n",
    "\n",
    "            else:\n",
    "                display(widgets.HTML(tags.h5(\"tpm_threshold could not be 0\").render()))\n",
    "\n",
    "        else:\n",
    "            display(widgets.HTML(tags.h5(\"No Upload file present\").render()))\n",
    "            \n",
    "interact_manual(Low_ROH,\n",
    "               tpm_threshold = Text(\n",
    "                    value='0.1875', \n",
    "                    style = style, disabled=False)\n",
    "               )"
   ]
  },
  {
   "cell_type": "markdown",
   "metadata": {},
   "source": [
    "## Not Expressed Genes in ROH\n",
    "#### Tabel of genes which are not expressed in the regions of the uploaded file. There are no counts present in any of the samples."
   ]
  },
  {
   "cell_type": "code",
   "execution_count": null,
   "metadata": {},
   "outputs": [],
   "source": [
    "# Genes which are not expressed in ROH (upload file)\n",
    "\n",
    "def No_ROH ():\n",
    "    \n",
    "    main_path_file = './countfiles_all_exp/'    \n",
    "\n",
    "    if ('df_position','fragments', 'experiment' in globals() ):\n",
    "        if len(position) != 0:\n",
    "            file = experiment + '_ht2_' + fragments + '_counts.tsv'\n",
    "\n",
    "            if file != '':\n",
    "                path = main_path_file + file\n",
    "                countdata = pd.read_csv(path, sep='\\t').set_index('Unnamed: 0')\n",
    "                countdata = countdata.loc[:,(countdata.columns.isin(metadata_species['sample_id']))]\n",
    "\n",
    "                # create table with count per million (cpm) (correction for library size)\n",
    "                df_cpm = countdata\n",
    "                columns = list(df_cpm)\n",
    "                for i in columns:\n",
    "                    df_cpm[i] = (df_cpm[i] / df_cpm[i].sum())*1000000\n",
    "\n",
    "                # totalcounts > 0\n",
    "                df_no= df_cpm.assign(sum_counts = df_cpm.sum(axis=1))\n",
    "                df_no = df_no.loc[df_no['sum_counts'] == 0]\n",
    "                df_no = df_no.drop(['sum_counts'], axis=1)\n",
    "                df_no.reset_index(level=0, inplace=True)\n",
    "\n",
    "                # welke genen komen niet tot expressie in gekozen weefsel?\n",
    "                df_no = df_no.loc[:,['Unnamed: 0']]\n",
    "                df_no[['chr','start','end','gene_fragment']] = df_no['Unnamed: 0'].str.split('_',3,expand=True)\n",
    "                df_no = pd.DataFrame(df_no)\n",
    "                df_no[['start','end']] = df_no[['start','end']].apply(pd.to_numeric)\n",
    "    \n",
    "                # filter df\n",
    "                # make empty dataframe\n",
    "                # search per line of df_position, make dataframe and append to empty df\n",
    "                df_empty = pd.DataFrame(columns= list(df_no.columns))\n",
    "                for i, j in df_position.iterrows():\n",
    "                    chrom = str(j[0])\n",
    "                    if chrom.startswith('chr'):\n",
    "                        chrom = chrom\n",
    "                    else:\n",
    "                        chrom = 'chr' + chrom\n",
    "                    start = j[1]\n",
    "                    end = j[2]\n",
    "                    df_roh_filter = df_no.loc[ (df_no['chr'] == chrom) & (df_no['start'] >= start) & (df_no['end'] <= end) ]\n",
    "                    df_empty = df_empty.append(df_roh_filter, ignore_index=True)\n",
    "                    df_roh = df_empty[['chr','start','end','gene_fragment']]\n",
    "\n",
    "            display(HTML_with_style(df_roh.iloc[:]))\n",
    "            \n",
    "        else:\n",
    "            display(widgets.HTML(tags.h5(\"No Upload file present\").render()))\n",
    "            \n",
    "\n",
    "interact_manual(No_ROH)"
   ]
  }
 ],
 "metadata": {
  "kernelspec": {
   "display_name": "Python 3",
   "language": "python",
   "name": "python3"
  },
  "language_info": {
   "codemirror_mode": {
    "name": "ipython",
    "version": 3
   },
   "file_extension": ".py",
   "mimetype": "text/x-python",
   "name": "python",
   "nbconvert_exporter": "python",
   "pygments_lexer": "ipython3",
   "version": "3.7.6"
  },
  "widgets": {
   "application/vnd.jupyter.widget-state+json": {
    "state": {
     "12bd139103494a82a7916eea10061406": {
      "model_module": "@jupyter-widgets/base",
      "model_module_version": "1.2.0",
      "model_name": "LayoutModel",
      "state": {}
     },
     "2895f9e44e284b9baa3d8d1c838e9cad": {
      "model_module": "@jupyter-widgets/base",
      "model_module_version": "1.2.0",
      "model_name": "LayoutModel",
      "state": {}
     },
     "38188a9620a049e7adc7071247333165": {
      "model_module": "@jupyter-widgets/output",
      "model_module_version": "1.0.0",
      "model_name": "OutputModel",
      "state": {
       "layout": "IPY_MODEL_c6db81125d4146d69cd6e8674fb28d9d",
       "outputs": [
        {
         "data": {
          "text/html": "<div>\n<style scoped>\n    .dataframe tbody tr th:only-of-type {\n        vertical-align: middle;\n    }\n\n    .dataframe tbody tr th {\n        vertical-align: top;\n    }\n\n    .dataframe thead th {\n        text-align: right;\n    }\n</style>\n<table border=\"1\" class=\"dataframe\">\n  <thead>\n    <tr style=\"text-align: right;\">\n      <th></th>\n      <th>Gene_1</th>\n    </tr>\n    <tr>\n      <th>Unnamed: 0</th>\n      <th></th>\n    </tr>\n  </thead>\n  <tbody>\n    <tr>\n      <td>Sample_1</td>\n      <td>0.888673</td>\n    </tr>\n    <tr>\n      <td>Sample_9</td>\n      <td>0.883773</td>\n    </tr>\n    <tr>\n      <td>Sample_11</td>\n      <td>1.763011</td>\n    </tr>\n    <tr>\n      <td>Sample_13</td>\n      <td>1.467888</td>\n    </tr>\n    <tr>\n      <td>Sample_14</td>\n      <td>1.041974</td>\n    </tr>\n    <tr>\n      <td>Sample_17</td>\n      <td>0.814006</td>\n    </tr>\n    <tr>\n      <td>Sample_27</td>\n      <td>1.634723</td>\n    </tr>\n    <tr>\n      <td>Sample_29</td>\n      <td>2.004981</td>\n    </tr>\n    <tr>\n      <td>Sample_32</td>\n      <td>1.541715</td>\n    </tr>\n    <tr>\n      <td>Sample_35</td>\n      <td>1.277408</td>\n    </tr>\n    <tr>\n      <td>Sample_38</td>\n      <td>0.880445</td>\n    </tr>\n    <tr>\n      <td>Sample_41</td>\n      <td>2.428019</td>\n    </tr>\n    <tr>\n      <td>Sample_44</td>\n      <td>1.814918</td>\n    </tr>\n    <tr>\n      <td>Sample_47</td>\n      <td>1.082916</td>\n    </tr>\n    <tr>\n      <td>Sample_49</td>\n      <td>1.474107</td>\n    </tr>\n  </tbody>\n</table>\n</div>",
          "text/plain": "              Gene_1\nUnnamed: 0          \nSample_1    0.888673\nSample_9    0.883773\nSample_11   1.763011\nSample_13   1.467888\nSample_14   1.041974\nSample_17   0.814006\nSample_27   1.634723\nSample_29   2.004981\nSample_32   1.541715\nSample_35   1.277408\nSample_38   0.880445\nSample_41   2.428019\nSample_44   1.814918\nSample_47   1.082916\nSample_49   1.474107"
         },
         "metadata": {},
         "output_type": "display_data"
        }
       ]
      }
     },
     "52a8ad41171c45fb8ca60ef15d18c0a5": {
      "model_module": "@jupyter-widgets/controls",
      "model_module_version": "1.5.0",
      "model_name": "FloatSliderModel",
      "state": {
       "description": "Z",
       "layout": "IPY_MODEL_e1ceb795ddc545f094f4065449584512",
       "max": 10,
       "step": 0.1,
       "style": "IPY_MODEL_795d141faeec4164af7e824ba019b756",
       "value": 0.8
      }
     },
     "5d6baebcd17d4edeb4ccf80c1950623a": {
      "model_module": "@jupyter-widgets/controls",
      "model_module_version": "1.5.0",
      "model_name": "SliderStyleModel",
      "state": {
       "description_width": ""
      }
     },
     "5f8508ecd1474d468acd8a73db87e600": {
      "model_module": "@jupyter-widgets/base",
      "model_module_version": "1.2.0",
      "model_name": "LayoutModel",
      "state": {}
     },
     "6578cace8ec34026a6f27e02801c1f91": {
      "model_module": "@jupyter-widgets/base",
      "model_module_version": "1.2.0",
      "model_name": "LayoutModel",
      "state": {}
     },
     "6f03af1c3a9840c49ca453806523a22e": {
      "model_module": "@jupyter-widgets/controls",
      "model_module_version": "1.5.0",
      "model_name": "IntSliderModel",
      "state": {
       "description": "x",
       "layout": "IPY_MODEL_6578cace8ec34026a6f27e02801c1f91",
       "max": 30,
       "min": -10,
       "style": "IPY_MODEL_5d6baebcd17d4edeb4ccf80c1950623a",
       "value": 9
      }
     },
     "795d141faeec4164af7e824ba019b756": {
      "model_module": "@jupyter-widgets/controls",
      "model_module_version": "1.5.0",
      "model_name": "SliderStyleModel",
      "state": {
       "description_width": ""
      }
     },
     "909fe225722a43d98feb064375e6acc9": {
      "model_module": "@jupyter-widgets/controls",
      "model_module_version": "1.5.0",
      "model_name": "VBoxModel",
      "state": {
       "_dom_classes": [
        "widget-interact"
       ],
       "layout": "IPY_MODEL_d574d2cd20034548ab0396d30d56c8b5"
      }
     },
     "a1e8fa0c9e144de799642bc5b98007fc": {
      "model_module": "@jupyter-widgets/controls",
      "model_module_version": "1.5.0",
      "model_name": "VBoxModel",
      "state": {
       "_dom_classes": [
        "widget-interact"
       ],
       "children": [
        "IPY_MODEL_6f03af1c3a9840c49ca453806523a22e",
        "IPY_MODEL_f785c6860c9e40bf8c9f0a48a2229cf7"
       ],
       "layout": "IPY_MODEL_5f8508ecd1474d468acd8a73db87e600"
      }
     },
     "b755341dabe34220b7a4a3dd372abdf4": {
      "model_module": "@jupyter-widgets/controls",
      "model_module_version": "1.5.0",
      "model_name": "DescriptionStyleModel",
      "state": {
       "description_width": ""
      }
     },
     "bee17cd8a5a84f96b54076a0df8ac34a": {
      "model_module": "@jupyter-widgets/controls",
      "model_module_version": "1.5.0",
      "model_name": "DropdownModel",
      "state": {
       "_options_labels": [
        "Gene_0",
        "Gene_1",
        "Gene_2",
        "Gene_3",
        "Gene_4",
        "Gene_5",
        "Gene_6",
        "Gene_7",
        "Gene_8",
        "Gene_9"
       ],
       "description": "gene",
       "index": 1,
       "layout": "IPY_MODEL_2895f9e44e284b9baa3d8d1c838e9cad",
       "style": "IPY_MODEL_b755341dabe34220b7a4a3dd372abdf4"
      }
     },
     "c6db81125d4146d69cd6e8674fb28d9d": {
      "model_module": "@jupyter-widgets/base",
      "model_module_version": "1.2.0",
      "model_name": "LayoutModel",
      "state": {}
     },
     "d574d2cd20034548ab0396d30d56c8b5": {
      "model_module": "@jupyter-widgets/base",
      "model_module_version": "1.2.0",
      "model_name": "LayoutModel",
      "state": {}
     },
     "da3206f166964afc89466ac3a607c708": {
      "model_module": "@jupyter-widgets/controls",
      "model_module_version": "1.5.0",
      "model_name": "VBoxModel",
      "state": {
       "_dom_classes": [
        "widget-interact"
       ],
       "children": [
        "IPY_MODEL_bee17cd8a5a84f96b54076a0df8ac34a",
        "IPY_MODEL_52a8ad41171c45fb8ca60ef15d18c0a5",
        "IPY_MODEL_38188a9620a049e7adc7071247333165"
       ],
       "layout": "IPY_MODEL_12bd139103494a82a7916eea10061406"
      }
     },
     "e1ceb795ddc545f094f4065449584512": {
      "model_module": "@jupyter-widgets/base",
      "model_module_version": "1.2.0",
      "model_name": "LayoutModel",
      "state": {}
     },
     "f785c6860c9e40bf8c9f0a48a2229cf7": {
      "model_module": "@jupyter-widgets/output",
      "model_module_version": "1.0.0",
      "model_name": "OutputModel",
      "state": {
       "layout": "IPY_MODEL_fb5ba2f8bebe4b1e890c6fab571163f8",
       "outputs": [
        {
         "data": {
          "text/plain": "9"
         },
         "metadata": {},
         "output_type": "display_data"
        }
       ]
      }
     },
     "fb5ba2f8bebe4b1e890c6fab571163f8": {
      "model_module": "@jupyter-widgets/base",
      "model_module_version": "1.2.0",
      "model_name": "LayoutModel",
      "state": {}
     }
    },
    "version_major": 2,
    "version_minor": 0
   }
  }
 },
 "nbformat": 4,
 "nbformat_minor": 2
}
